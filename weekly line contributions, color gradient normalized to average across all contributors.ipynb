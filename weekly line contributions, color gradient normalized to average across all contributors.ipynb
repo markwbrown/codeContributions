{
 "cells": [
  {
   "cell_type": "code",
   "execution_count": null,
   "id": "aa20deb5",
   "metadata": {
    "scrolled": false
   },
   "outputs": [],
   "source": [
    "import os\n",
    "import subprocess\n",
    "import pandas as pd\n",
    "import numpy as np\n",
    "from datetime import datetime, timedelta\n",
    "from git import Repo\n",
    "import seaborn as sns\n",
    "import matplotlib.pyplot as plt\n",
    "\n",
    "def get_commit_data(repo_path, branch_name):\n",
    "    repo = Repo(repo_path)\n",
    "    commit_data = []\n",
    "\n",
    "    for commit in repo.iter_commits(branch_name):\n",
    "        commit_date = datetime.fromtimestamp(commit.committed_date)\n",
    "        if commit_date > datetime.now() - timedelta(days=365):\n",
    "            commit_stats = commit.stats.total\n",
    "            commit_data.append({\n",
    "                'author': commit.author.name,\n",
    "                'date': commit_date,\n",
    "                'lines_added': commit_stats['insertions']\n",
    "            })\n",
    "    return commit_data\n",
    "\n",
    "def analyze_commit_data(commit_data):\n",
    "    df = pd.DataFrame(commit_data)\n",
    "    df['day'] = df['date'].dt.date\n",
    "    df['week'] = df['date'].dt.to_period('W')\n",
    "    df['date'] = pd.to_datetime(df['date'])  # Convert 'date' column to datetime type\n",
    "    pd.set_option('display.max_rows', None)\n",
    "    min_date = df['date'].min()\n",
    "    df['30_day_interval'] = ((df['date'] - min_date).dt.days // 30).astype(int)  # Calculate 30-day interval\n",
    "\n",
    "    # Calculate lines added per developer in each week\n",
    "    pivot_table = pd.pivot_table(df, values='lines_added', index='author', columns='30_day_interval', aggfunc='sum')\n",
    "    pivot_table.columns = ['Days_' + str(col * 30) + '-' + str((col+1) * 30) for col in pivot_table.columns]  # Rename column headers\n",
    "    # Calculate the average lines added across all developers\n",
    "    avg_lines_added = pivot_table.mean(axis=0)\n",
    "\n",
    "    # Add a final column to the pivot table that sums the values of each row\n",
    "    pivot_table['Total'] = pivot_table.sum(axis=1)\n",
    "    \n",
    "    return pivot_table, avg_lines_added\n",
    "\n",
    "\n",
    "if __name__ == \"__main__\":\n",
    "    repo_path = input(\"Enter the path to the local git repository: \")\n",
    "    branch_name = input(\"Enter the branch name: \")\n",
    "\n",
    "    commit_data = get_commit_data(repo_path, branch_name)\n",
    "    result, avg_lines_added = analyze_commit_data(commit_data)\n",
    "\n",
    "    pd.set_option('display.max_columns', None)\n",
    "#     print(result)\n",
    "\n",
    "    # Create a styled DataFrame with a background gradient\n",
    "    result_added = result.style.background_gradient(cmap='YlOrRd')\n",
    "\n",
    "    # Display the styled DataFrame\n",
    "    display(result_added)\n"
   ]
  },
  {
   "cell_type": "code",
   "execution_count": null,
   "id": "165a56dc",
   "metadata": {},
   "outputs": [],
   "source": [
    "import qgrid"
   ]
  },
  {
   "cell_type": "code",
   "execution_count": null,
   "id": "110ef48c",
   "metadata": {},
   "outputs": [],
   "source": [
    "\n",
    "qgrid_widget = qgrid.show_grid(result)\n",
    "display(qgrid_widget)"
   ]
  }
 ],
 "metadata": {
  "kernelspec": {
   "display_name": "Python 3 (ipykernel)",
   "language": "python",
   "name": "python3"
  },
  "language_info": {
   "codemirror_mode": {
    "name": "ipython",
    "version": 3
   },
   "file_extension": ".py",
   "mimetype": "text/x-python",
   "name": "python",
   "nbconvert_exporter": "python",
   "pygments_lexer": "ipython3",
   "version": "3.9.13"
  }
 },
 "nbformat": 4,
 "nbformat_minor": 5
}
